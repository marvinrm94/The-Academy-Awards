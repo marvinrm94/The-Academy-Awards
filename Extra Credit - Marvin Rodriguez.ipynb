{
 "cells": [
  {
   "cell_type": "markdown",
   "id": "583418e7",
   "metadata": {},
   "source": [
    "# Extra Credit Assignment - Marvin Rodriguez"
   ]
  },
  {
   "cell_type": "markdown",
   "id": "89917811",
   "metadata": {},
   "source": [
    "## Introduction"
   ]
  },
  {
   "cell_type": "markdown",
   "id": "1fcffc3e",
   "metadata": {},
   "source": [
    "The objective of this Jupyter Notebook is to examine a dataset encompassing all nominees throughout the history of the Academy Awards. Our goal is to manipulate the data to extract valuable insights from the results.\n",
    "\n",
    "To provide context, the Academy Awards, widely known as the Oscars, stands as the oldest film award ceremony in the United States and is overseen by the Academy of Motion Picture Arts and Sciences. Starting in 1929, the Oscars have been a beacon for recognizing excellence in cinematic accomplishments. With a committee boasting over 10,000 voting members, the Oscars hold historical significance, establishing it as one of the most esteemed ceremonies in the film industry. Awards are distributed across various categories, including Best Picture, Best Director, Best Actor, Best Actress, Best Writing, and numerous others.\n",
    "\n",
    "Let’s start by importing the necessary libraries."
   ]
  },
  {
   "cell_type": "code",
   "execution_count": 1,
   "id": "aba822b2",
   "metadata": {},
   "outputs": [],
   "source": [
    "import importlib\n",
    "\n",
    "# Check if pandas library is installed, install it if not, and then import\n",
    "if importlib.util.find_spec(\"pandas\") is None:\n",
    "    !pip install pandas\n",
    "import pandas as pd\n",
    "\n",
    "# Check if numpy library is installed, install it if not, and then import\n",
    "if importlib.util.find_spec(\"numpy\") is None:\n",
    "    !pip install numpy\n",
    "import numpy as np\n",
    "\n",
    "# Check if matplotlib library is installed, install it if not, and then import\n",
    "if importlib.util.find_spec(\"matplotlib\") is None:\n",
    "    !pip install matplotlib\n",
    "import matplotlib.pyplot as plt"
   ]
  },
  {
   "cell_type": "markdown",
   "id": "9ac1b54e",
   "metadata": {},
   "source": [
    "***"
   ]
  },
  {
   "cell_type": "markdown",
   "id": "93396fe1",
   "metadata": {},
   "source": [
    "### Load your Dataset"
   ]
  },
  {
   "cell_type": "markdown",
   "id": "0c8ac690",
   "metadata": {},
   "source": [
    "Now, we'll proceed to load the dataset named \"the_oscar_award.csv.\" This dataset was sourced from Kaggle, provided by the user Raphael Fontes. You can access the dataset through the following link: https://www.kaggle.com/datasets/unanimad/the-oscar-award/."
   ]
  },
  {
   "cell_type": "code",
   "execution_count": 2,
   "id": "b26ebe36",
   "metadata": {},
   "outputs": [
    {
     "name": "stdout",
     "output_type": "stream",
     "text": [
      "Display a few rows of your dataset and have a quick view of the data shown. The dataset has 10765 rows of data (excludes titles).\n",
      "\n",
      "   year_film  year_ceremony  ceremony category                 name  \\\n",
      "0       1927           1928         1    ACTOR  Richard Barthelmess   \n",
      "1       1927           1928         1    ACTOR        Emil Jannings   \n",
      "2       1927           1928         1  ACTRESS       Louise Dresser   \n",
      "3       1927           1928         1  ACTRESS         Janet Gaynor   \n",
      "4       1927           1928         1  ACTRESS       Gloria Swanson   \n",
      "\n",
      "               film  winner  \n",
      "0         The Noose   False  \n",
      "1  The Last Command    True  \n",
      "2   A Ship Comes In   False  \n",
      "3        7th Heaven    True  \n",
      "4    Sadie Thompson   False  \n",
      "\n",
      "Here's some additional information about the Dataset:\n",
      "\n",
      "<class 'pandas.core.frame.DataFrame'>\n",
      "RangeIndex: 10765 entries, 0 to 10764\n",
      "Data columns (total 7 columns):\n",
      " #   Column         Non-Null Count  Dtype \n",
      "---  ------         --------------  ----- \n",
      " 0   year_film      10765 non-null  int64 \n",
      " 1   year_ceremony  10765 non-null  int64 \n",
      " 2   ceremony       10765 non-null  int64 \n",
      " 3   category       10765 non-null  object\n",
      " 4   name           10761 non-null  object\n",
      " 5   film           10450 non-null  object\n",
      " 6   winner         10765 non-null  bool  \n",
      "dtypes: bool(1), int64(3), object(3)\n",
      "memory usage: 515.3+ KB\n",
      "None\n"
     ]
    }
   ],
   "source": [
    "# Load the Excel file into a DataFrame\n",
    "oscar_award = pd.read_csv(\"the_oscar_award.csv\")\n",
    "number_of_rows = len(oscar_award)\n",
    "\n",
    "print(\"Display a few rows of your dataset and have a quick view of the data shown. The dataset has\", number_of_rows, \"rows of data (excludes titles).\\n\")\n",
    "\n",
    "# Display the first few rows of the DataFrame\n",
    "print(oscar_award.head())\n",
    "\n",
    "print(\"\\nHere's some additional information about the Dataset:\\n\")\n",
    "\n",
    "# Display detailed information about the DataFrame\n",
    "print(oscar_award.info())"
   ]
  },
  {
   "cell_type": "markdown",
   "id": "21880d52",
   "metadata": {},
   "source": [
    "This dataset has 7 columns: “year_film”, “year_ceremony”, “ceremony”, “category”, “name”, “film”, “winner”. A brief description of each category is as follows:\n",
    "- year_film: The year the film was released in theaters. (Int value)\n",
    "- year_ceremony: The year the Awards ceremony took place. (Int value)\n",
    "- ceremony: Number of ceremony. (Int value)\n",
    "- category: The category for which the film/person was nominated. (String value)\n",
    "- name: The name of the people nominated. (String value)\n",
    "- film: The name of the film that was nominated. (String value)\n",
    "- winner: Indicates if the nominee won the award. (Boolean value)"
   ]
  },
  {
   "cell_type": "markdown",
   "id": "f1c94e55",
   "metadata": {},
   "source": [
    "To narrow down our analysis, we want to only focus on some categories for a specified time frame. The script can be modified to filter for your desired categories throughout different years.\n",
    "\n",
    "For this Notebook we want to focus on the timeframe from the year 2000 to 2020."
   ]
  },
  {
   "cell_type": "code",
   "execution_count": 3,
   "id": "2677da40",
   "metadata": {
    "scrolled": true
   },
   "outputs": [
    {
     "data": {
      "text/html": [
       "<div>\n",
       "<style scoped>\n",
       "    .dataframe tbody tr th:only-of-type {\n",
       "        vertical-align: middle;\n",
       "    }\n",
       "\n",
       "    .dataframe tbody tr th {\n",
       "        vertical-align: top;\n",
       "    }\n",
       "\n",
       "    .dataframe thead th {\n",
       "        text-align: right;\n",
       "    }\n",
       "</style>\n",
       "<table border=\"1\" class=\"dataframe\">\n",
       "  <thead>\n",
       "    <tr style=\"text-align: right;\">\n",
       "      <th></th>\n",
       "      <th>year_film</th>\n",
       "      <th>year_ceremony</th>\n",
       "      <th>ceremony</th>\n",
       "      <th>category</th>\n",
       "      <th>name</th>\n",
       "      <th>film</th>\n",
       "      <th>winner</th>\n",
       "    </tr>\n",
       "  </thead>\n",
       "  <tbody>\n",
       "    <tr>\n",
       "      <th>0</th>\n",
       "      <td>2000</td>\n",
       "      <td>2001</td>\n",
       "      <td>73</td>\n",
       "      <td>ACTOR IN A LEADING ROLE</td>\n",
       "      <td>Javier Bardem</td>\n",
       "      <td>Before Night Falls</td>\n",
       "      <td>False</td>\n",
       "    </tr>\n",
       "    <tr>\n",
       "      <th>1</th>\n",
       "      <td>2000</td>\n",
       "      <td>2001</td>\n",
       "      <td>73</td>\n",
       "      <td>ACTOR IN A LEADING ROLE</td>\n",
       "      <td>Russell Crowe</td>\n",
       "      <td>Gladiator</td>\n",
       "      <td>True</td>\n",
       "    </tr>\n",
       "    <tr>\n",
       "      <th>2</th>\n",
       "      <td>2000</td>\n",
       "      <td>2001</td>\n",
       "      <td>73</td>\n",
       "      <td>ACTOR IN A LEADING ROLE</td>\n",
       "      <td>Tom Hanks</td>\n",
       "      <td>Cast Away</td>\n",
       "      <td>False</td>\n",
       "    </tr>\n",
       "    <tr>\n",
       "      <th>3</th>\n",
       "      <td>2000</td>\n",
       "      <td>2001</td>\n",
       "      <td>73</td>\n",
       "      <td>ACTOR IN A LEADING ROLE</td>\n",
       "      <td>Ed Harris</td>\n",
       "      <td>Pollock</td>\n",
       "      <td>False</td>\n",
       "    </tr>\n",
       "    <tr>\n",
       "      <th>4</th>\n",
       "      <td>2000</td>\n",
       "      <td>2001</td>\n",
       "      <td>73</td>\n",
       "      <td>ACTOR IN A LEADING ROLE</td>\n",
       "      <td>Geoffrey Rush</td>\n",
       "      <td>Quills</td>\n",
       "      <td>False</td>\n",
       "    </tr>\n",
       "  </tbody>\n",
       "</table>\n",
       "</div>"
      ],
      "text/plain": [
       "   year_film  year_ceremony  ceremony                 category           name  \\\n",
       "0       2000           2001        73  ACTOR IN A LEADING ROLE  Javier Bardem   \n",
       "1       2000           2001        73  ACTOR IN A LEADING ROLE  Russell Crowe   \n",
       "2       2000           2001        73  ACTOR IN A LEADING ROLE      Tom Hanks   \n",
       "3       2000           2001        73  ACTOR IN A LEADING ROLE      Ed Harris   \n",
       "4       2000           2001        73  ACTOR IN A LEADING ROLE  Geoffrey Rush   \n",
       "\n",
       "                 film  winner  \n",
       "0  Before Night Falls   False  \n",
       "1           Gladiator    True  \n",
       "2           Cast Away   False  \n",
       "3             Pollock   False  \n",
       "4              Quills   False  "
      ]
     },
     "execution_count": 3,
     "metadata": {},
     "output_type": "execute_result"
    }
   ],
   "source": [
    "# Filter the DataFrame for the desired time frame (2000 to 2020)\n",
    "filtered_year_oscar_award = oscar_award[(oscar_award['year_film'] >= 2000) & (oscar_award['year_film'] <= 2020)]\n",
    "filtered_year_oscar_award = filtered_year_oscar_award.reset_index(drop=True)\n",
    "\n",
    "# Display the first few rows of the filtered DataFrame\n",
    "filtered_year_oscar_award.head()"
   ]
  },
  {
   "cell_type": "markdown",
   "id": "3b0b9d6b",
   "metadata": {},
   "source": [
    "***"
   ]
  },
  {
   "cell_type": "markdown",
   "id": "501e1dac",
   "metadata": {},
   "source": [
    "### Filter and clean your Dataset"
   ]
  },
  {
   "cell_type": "markdown",
   "id": "b650bf72",
   "metadata": {},
   "source": [
    "During the preliminary analysis, we identified 115 unique categories in the dataset, indicating discrepancies in the naming of categories over the years. To address this, we have manually selected and focused on seven main categories for evaluation. These categories are: Best Actor, Best Actress, Best Director, Best Supporting Actor, Best Supporting Actress, Original Screenplay, and Adapted Screenplay. This refined selection allows us to concentrate on **key award categories** for a more targeted analysis."
   ]
  },
  {
   "cell_type": "markdown",
   "id": "f97115f7",
   "metadata": {},
   "source": [
    "Upon inspection, we observed variations in the naming conventions for the Original Screenplay and Adapted Screenplay categories throughout the years. These variations exist not only in recent years but also date back to 1950 and earlier. To address this, we have identified and documented all the different naming conventions used since 1927 for our seven categories. Consequently, a DataFrame named `category_to_type` has been generated, mapping each naming convention to its corresponding category type.\n",
    "\n",
    "This DataFrame is sorted by category type for better organization and reference."
   ]
  },
  {
   "cell_type": "code",
   "execution_count": 4,
   "id": "00be7235",
   "metadata": {},
   "outputs": [
    {
     "name": "stdout",
     "output_type": "stream",
     "text": [
      "                                             category                type\n",
      "0                                           DIRECTING            Director\n",
      "1                          DIRECTING (Comedy Picture)            Director\n",
      "2                        DIRECTING (Dramatic Picture)            Director\n",
      "3                                               ACTOR          Lead Actor\n",
      "4                             ACTOR IN A LEADING ROLE          Lead Actor\n",
      "5                                             ACTRESS        Lead Actress\n",
      "6                           ACTRESS IN A LEADING ROLE        Lead Actress\n",
      "7                          ACTOR IN A SUPPORTING ROLE    Supporting Actor\n",
      "8                        ACTRESS IN A SUPPORTING ROLE  Supporting Actress\n",
      "9   WRITING (Screenplay Based on Material Previous...   Writer Adaptation\n",
      "10  WRITING (Screenplay Based on Material from Ano...   Writer Adaptation\n",
      "11   WRITING (Screenplay Adapted from Other Material)   Writer Adaptation\n",
      "12  WRITING (Screenplay--based on material from an...   Writer Adaptation\n",
      "13                               WRITING (Adaptation)   Writer Adaptation\n",
      "14                       WRITING (Adapted Screenplay)   Writer Adaptation\n",
      "15                      WRITING (Screenplay--Adapted)   Writer Adaptation\n",
      "16                                            WRITING   Writer Adaptation\n",
      "17                               WRITING (Screenplay)   Writer Adaptation\n",
      "18                     WRITING (Screenplay--Original)     Writer Original\n",
      "19  WRITING (Story and Screenplay--based on factua...     Writer Original\n",
      "20                     WRITING (Story and Screenplay)     Writer Original\n",
      "21                      WRITING (Original Screenplay)     Writer Original\n",
      "22  WRITING (Screenplay Written Directly for the S...     Writer Original\n",
      "23                           WRITING (Original Story)     Writer Original\n",
      "24  WRITING (Story and Screenplay--based on materi...     Writer Original\n",
      "25            WRITING (Original Motion Picture Story)     Writer Original\n",
      "26                     WRITING (Motion Picture Story)     Writer Original\n",
      "27  WRITING (Screenplay Written Directly for the S...     Writer Original\n",
      "28  WRITING (Story and Screenplay--written directl...     Writer Original\n"
     ]
    }
   ],
   "source": [
    "#Create a data frame to account for all the name variations since 1927\n",
    "category_to_type_data = {\n",
    "    \"category\": [\n",
    "        \"ACTOR\", \"ACTOR IN A LEADING ROLE\", \"ACTOR IN A SUPPORTING ROLE\",\n",
    "        \"ACTRESS\", \"ACTRESS IN A LEADING ROLE\", \"ACTRESS IN A SUPPORTING ROLE\",\n",
    "        \"DIRECTING\", \"DIRECTING (Comedy Picture)\", \"DIRECTING (Dramatic Picture)\",\n",
    "        \"WRITING\", \"WRITING (Adaptation)\", \"WRITING (Adapted Screenplay)\",\n",
    "        \"WRITING (Motion Picture Story)\", \"WRITING (Original Motion Picture Story)\",\n",
    "        \"WRITING (Original Screenplay)\", \"WRITING (Original Story)\",\n",
    "        \"WRITING (Screenplay Adapted from Other Material)\",\n",
    "        \"WRITING (Screenplay Based on Material from Another Medium)\",\n",
    "        \"WRITING (Screenplay Based on Material Previously Produced or Published)\",\n",
    "        \"WRITING (Screenplay Written Directly for the Screen)\",\n",
    "        \"WRITING (Screenplay Written Directly for the Screen--based on factual material or on story material not previously published or produced)\",\n",
    "        \"WRITING (Screenplay)\", \"WRITING (Screenplay--Adapted)\",\n",
    "        \"WRITING (Screenplay--based on material from another medium)\",\n",
    "        \"WRITING (Screenplay--Original)\", \"WRITING (Story and Screenplay)\",\n",
    "        \"WRITING (Story and Screenplay--based on factual material or material not previously published or produced)\",\n",
    "        \"WRITING (Story and Screenplay--based on material not previously published or produced)\",\n",
    "        \"WRITING (Story and Screenplay--written directly for the screen)\"\n",
    "    ],\n",
    "    \"type\": [\n",
    "        \"Lead Actor\", \"Lead Actor\", \"Supporting Actor\",\n",
    "        \"Lead Actress\", \"Lead Actress\", \"Supporting Actress\",\n",
    "        \"Director\", \"Director\", \"Director\",\n",
    "        \"Writer Adaptation\", \"Writer Adaptation\", \"Writer Adaptation\",\n",
    "        \"Writer Original\", \"Writer Original\", \"Writer Original\", \"Writer Original\",\n",
    "        \"Writer Adaptation\", \"Writer Adaptation\", \"Writer Adaptation\",\n",
    "        \"Writer Original\", \"Writer Original\",\n",
    "        \"Writer Adaptation\", \"Writer Adaptation\",\n",
    "        \"Writer Adaptation\", \"Writer Original\", \"Writer Original\", \"Writer Original\",\n",
    "        \"Writer Original\", \"Writer Original\"\n",
    "    ]\n",
    "}\n",
    "\n",
    "category_to_type = pd.DataFrame(category_to_type_data)\n",
    "\n",
    "# Sort the DataFrame by the 'type' column\n",
    "category_to_type = category_to_type.sort_values(by='type')\n",
    "category_to_type = category_to_type.reset_index(drop=True)\n",
    "\n",
    "# Display the DataFrame\n",
    "print(category_to_type)"
   ]
  },
  {
   "cell_type": "markdown",
   "id": "a126125e",
   "metadata": {},
   "source": [
    "Now using the `category_to_type` DataFrame we can filter our `oscar_award` dataset."
   ]
  },
  {
   "cell_type": "code",
   "execution_count": 5,
   "id": "937cd658",
   "metadata": {
    "scrolled": true
   },
   "outputs": [
    {
     "name": "stdout",
     "output_type": "stream",
     "text": [
      "<class 'pandas.core.frame.DataFrame'>\n",
      "RangeIndex: 735 entries, 0 to 734\n",
      "Data columns (total 8 columns):\n",
      " #   Column         Non-Null Count  Dtype \n",
      "---  ------         --------------  ----- \n",
      " 0   year_film      735 non-null    int64 \n",
      " 1   year_ceremony  735 non-null    int64 \n",
      " 2   ceremony       735 non-null    int64 \n",
      " 3   category       735 non-null    object\n",
      " 4   name           735 non-null    object\n",
      " 5   film           735 non-null    object\n",
      " 6   winner         735 non-null    bool  \n",
      " 7   type           735 non-null    object\n",
      "dtypes: bool(1), int64(3), object(4)\n",
      "memory usage: 41.0+ KB\n",
      "None\n"
     ]
    }
   ],
   "source": [
    "# Use merge to filter 'filtered_year_oscar_award'\n",
    "filtered_categories_oscar_award = pd.merge(\n",
    "    filtered_year_oscar_award, category_to_type, how='left', left_on='category', right_on='category'\n",
    ")\n",
    "filtered_categories_oscar_award = filtered_categories_oscar_award.dropna(subset=['type'])\n",
    "filtered_categories_oscar_award = filtered_categories_oscar_award.reset_index(drop=True)\n",
    "\n",
    "# Display the Filtered Categories DataFrame information\n",
    "print(filtered_categories_oscar_award.info())"
   ]
  },
  {
   "cell_type": "markdown",
   "id": "e8132998",
   "metadata": {},
   "source": [
    "Now that we have filtered the dataset based on the selected categories and time frame, we can proceed to calculate the number of nominations granted within this specified period. \n",
    "\n",
    "Following this, we'll determine the count of unique nominees by considering each nominee only once for our analysis. This step is crucial in understanding the breadth and diversity of talent recognized by the Academy Awards during the chosen time frame."
   ]
  },
  {
   "cell_type": "code",
   "execution_count": 6,
   "id": "a0f88c8a",
   "metadata": {},
   "outputs": [
    {
     "name": "stdout",
     "output_type": "stream",
     "text": [
      "Nomination Count (Selected time frame using the filtered categories): 735\n",
      "Unique Nominee Count (Count each name only once): 519\n"
     ]
    }
   ],
   "source": [
    "# Nomination Count in the selected time frame using the filtered categories\n",
    "nomination_count = len(filtered_categories_oscar_award)\n",
    "\n",
    "# Number of unique Nominees (count each name only once)\n",
    "unique_nominee_count = filtered_categories_oscar_award['name'].nunique()\n",
    "\n",
    "# Display the results\n",
    "print(\"Nomination Count (Selected time frame using the filtered categories):\", nomination_count)\n",
    "print(\"Unique Nominee Count (Count each name only once):\", unique_nominee_count)"
   ]
  },
  {
   "cell_type": "markdown",
   "id": "f9fb2aba",
   "metadata": {},
   "source": [
    "To accomplish this, we can create a DataFrame that counts the number of nominations each person obtained. Next, we'll determine how many individuals received one, two, three, and so on nominations, up to a maximum of ten. \n",
    "\n",
    "This analysis will provide insights into the distribution of nominations among individuals and highlight the diversity of nominees in terms of the number of recognitions they received."
   ]
  },
  {
   "cell_type": "code",
   "execution_count": 7,
   "id": "9450a1fa",
   "metadata": {},
   "outputs": [
    {
     "name": "stdout",
     "output_type": "stream",
     "text": [
      "Name Counts:\n",
      "name\n",
      "Meryl Streep               9\n",
      "Martin Scorsese            6\n",
      "Amy Adams                  6\n",
      "Cate Blanchett             6\n",
      "Leonardo DiCaprio          5\n",
      "                          ..\n",
      "Ellen Page                 1\n",
      "Julie Christie             1\n",
      "Hal Holbrook               1\n",
      "Written by Peter Morgan    1\n",
      "Written by Aaron Sorkin    1\n",
      "Name: count, Length: 519, dtype: int64\n",
      "\n",
      "The person with the most nominations is Meryl Streep with a count of 9.\n",
      "\n",
      "Nomination Table:\n",
      "   nominations  count\n",
      "0            1    391\n",
      "1            2     78\n",
      "2            3     27\n",
      "3            4     15\n",
      "4            5      4\n",
      "5            6      3\n",
      "6            7      0\n",
      "7            8      0\n",
      "8            9      1\n",
      "9           10      0\n"
     ]
    }
   ],
   "source": [
    "# Calculate the nomination counts for each nominee\n",
    "name_counts = filtered_categories_oscar_award['name'].value_counts()\n",
    "print(\"Name Counts:\")\n",
    "print(name_counts)\n",
    "\n",
    "# Initialize a dictionary to store the counts for different numbers of nominations\n",
    "nomination_counts = {i: sum(name_counts == i) for i in range(1, 11)}\n",
    "\n",
    "# Create a DataFrame with the counts\n",
    "nomination_table = pd.DataFrame(list(nomination_counts.items()), columns=['nominations', 'count'])\n",
    "\n",
    "# Find the person with the most nominations\n",
    "most_nominated_person_overall = name_counts.idxmax()\n",
    "most_nominations_overall_count = name_counts.max()\n",
    "\n",
    "# Print the information\n",
    "print(f\"\\nThe person with the most nominations is {most_nominated_person_overall} with a count of {most_nominations_overall_count}.\")\n",
    "\n",
    "# Display the DataFrame\n",
    "print(\"\\nNomination Table:\")\n",
    "print(nomination_table)"
   ]
  },
  {
   "cell_type": "markdown",
   "id": "1e05f168",
   "metadata": {},
   "source": [
    "Generate a DataFrame exclusively displaying the winners for each category within the specified time frame. This will provide insights into the total number of awards presented during this period."
   ]
  },
  {
   "cell_type": "code",
   "execution_count": 8,
   "id": "ebe66f5d",
   "metadata": {
    "scrolled": true
   },
   "outputs": [
    {
     "name": "stdout",
     "output_type": "stream",
     "text": [
      "<class 'pandas.core.frame.DataFrame'>\n",
      "RangeIndex: 147 entries, 0 to 146\n",
      "Data columns (total 8 columns):\n",
      " #   Column         Non-Null Count  Dtype \n",
      "---  ------         --------------  ----- \n",
      " 0   year_film      147 non-null    int64 \n",
      " 1   year_ceremony  147 non-null    int64 \n",
      " 2   ceremony       147 non-null    int64 \n",
      " 3   category       147 non-null    object\n",
      " 4   name           147 non-null    object\n",
      " 5   film           147 non-null    object\n",
      " 6   winner         147 non-null    bool  \n",
      " 7   type           147 non-null    object\n",
      "dtypes: bool(1), int64(3), object(4)\n",
      "memory usage: 8.3+ KB\n",
      "None\n",
      "\n",
      "The number of Academy Awards given during this timeframe was: 147\n"
     ]
    }
   ],
   "source": [
    "# Calculate the amount of awards given from the filtered_categories_oscar_award DataFrame\n",
    "awards_given_in_timeframe = filtered_categories_oscar_award[filtered_categories_oscar_award['winner'] == True]\n",
    "awards_given_in_timeframe = awards_given_in_timeframe.reset_index(drop=True)\n",
    "\n",
    "# Display the Awards given DataFrame information\n",
    "print(awards_given_in_timeframe.info())\n",
    "\n",
    "# Display the results\n",
    "print(\"\\nThe number of Academy Awards given during this timeframe was:\", len(awards_given_in_timeframe))"
   ]
  },
  {
   "cell_type": "markdown",
   "id": "61afa714",
   "metadata": {},
   "source": [
    "***"
   ]
  },
  {
   "cell_type": "markdown",
   "id": "e0816b0c",
   "metadata": {},
   "source": [
    "## Category breakdown"
   ]
  },
  {
   "cell_type": "markdown",
   "id": "42d78ec6",
   "metadata": {},
   "source": [
    "Now, we will generate new datasets, each exclusively including the winners for a specific category. This process will be repeated for each category individually, facilitating further analysis if needed."
   ]
  },
  {
   "cell_type": "markdown",
   "id": "aca4ec30",
   "metadata": {},
   "source": [
    "### Lead Actor"
   ]
  },
  {
   "cell_type": "markdown",
   "id": "6132c94a",
   "metadata": {},
   "source": [
    "The **winners** for the Lead Actor category in our selected timeframe are the following:"
   ]
  },
  {
   "cell_type": "code",
   "execution_count": 9,
   "id": "a1ba60ca",
   "metadata": {},
   "outputs": [
    {
     "name": "stdout",
     "output_type": "stream",
     "text": [
      "                      name  year_film                       film\n",
      "0            Russell Crowe       2000                  Gladiator\n",
      "1        Denzel Washington       2001               Training Day\n",
      "2             Adrien Brody       2002                The Pianist\n",
      "3                Sean Penn       2003               Mystic River\n",
      "4               Jamie Foxx       2004                        Ray\n",
      "5   Philip Seymour Hoffman       2005                     Capote\n",
      "6          Forest Whitaker       2006  The Last King of Scotland\n",
      "7         Daniel Day-Lewis       2007        There Will Be Blood\n",
      "8                Sean Penn       2008                       Milk\n",
      "9             Jeff Bridges       2009                Crazy Heart\n",
      "10             Colin Firth       2010          The King's Speech\n",
      "11           Jean Dujardin       2011                 The Artist\n",
      "12        Daniel Day-Lewis       2012                    Lincoln\n",
      "13     Matthew McConaughey       2013         Dallas Buyers Club\n",
      "14          Eddie Redmayne       2014   The Theory of Everything\n",
      "15       Leonardo DiCaprio       2015               The Revenant\n",
      "16           Casey Affleck       2016      Manchester by the Sea\n",
      "17             Gary Oldman       2017               Darkest Hour\n",
      "18              Rami Malek       2018          Bohemian Rhapsody\n",
      "19         Joaquin Phoenix       2019                      Joker\n",
      "20         Anthony Hopkins       2020                 The Father \n",
      "\n",
      "                      name  wins\n",
      "18               Sean Penn     2\n",
      "4         Daniel Day-Lewis     2\n",
      "10           Jean Dujardin     1\n",
      "17           Russell Crowe     1\n",
      "16              Rami Malek     1\n",
      "15  Philip Seymour Hoffman     1\n",
      "14     Matthew McConaughey     1\n",
      "13       Leonardo DiCaprio     1\n",
      "12         Joaquin Phoenix     1\n",
      "11            Jeff Bridges     1\n",
      "0             Adrien Brody     1\n",
      "1          Anthony Hopkins     1\n",
      "8              Gary Oldman     1\n",
      "7          Forest Whitaker     1\n",
      "6           Eddie Redmayne     1\n",
      "5        Denzel Washington     1\n",
      "3              Colin Firth     1\n",
      "2            Casey Affleck     1\n",
      "9               Jamie Foxx     1 \n",
      "\n",
      "The only actor(s) who won on more than one occasion in the 'Lead Actor' category in the specified time frame: Sean Penn, Daniel Day-Lewis\n"
     ]
    }
   ],
   "source": [
    "# Filter for winners in the \"Lead Actor\" category\n",
    "actor_leading_role_winners = filtered_categories_oscar_award[\n",
    "    (filtered_categories_oscar_award['type'] == 'Lead Actor') & \n",
    "    (filtered_categories_oscar_award['winner'] == True)]\n",
    "actor_leading_role_winners = actor_leading_role_winners.reset_index(drop=True)\n",
    "\n",
    "# Display the DataFrame with a few categories\n",
    "print(actor_leading_role_winners[['name', 'year_film', 'film']], \"\\n\")\n",
    "\n",
    "# Group by 'name' and count the wins\n",
    "leading_actor_win_count = actor_leading_role_winners.groupby('name')['winner'].sum().reset_index(name='wins')\n",
    "leading_actor_win_count.sort_values(by='wins', ascending = False, inplace = True)\n",
    "print(leading_actor_win_count,\"\\n\")\n",
    "\n",
    "# Check if there are multi-time winners and print the statement\n",
    "if (any(leading_actor_win_count['wins'] > 1)):\n",
    "    print(\"The only actor(s) who won on more than one occasion in the 'Lead Actor' category in the specified time frame:\",\n",
    "          \", \".join(leading_actor_win_count.loc[leading_actor_win_count['wins'] > 1, 'name']))\n",
    "else:\n",
    "    print(\"No actor has won more than once in the 'Lead Actor' category in the specified time frame.\")"
   ]
  },
  {
   "cell_type": "markdown",
   "id": "256479be",
   "metadata": {},
   "source": [
    "### Supporting Actor"
   ]
  },
  {
   "cell_type": "markdown",
   "id": "0967e380",
   "metadata": {},
   "source": [
    "The **winners** for the Supporting Actor category in our selected timeframe are the following:"
   ]
  },
  {
   "cell_type": "code",
   "execution_count": 10,
   "id": "13c190ac",
   "metadata": {
    "scrolled": true
   },
   "outputs": [
    {
     "name": "stdout",
     "output_type": "stream",
     "text": [
      "                   name  year_film                                       film\n",
      "0      Benicio Del Toro       2000                                    Traffic\n",
      "1         Jim Broadbent       2001                                       Iris\n",
      "2          Chris Cooper       2002                                 Adaptation\n",
      "3           Tim Robbins       2003                               Mystic River\n",
      "4        Morgan Freeman       2004                        Million Dollar Baby\n",
      "5        George Clooney       2005                                    Syriana\n",
      "6            Alan Arkin       2006                       Little Miss Sunshine\n",
      "7         Javier Bardem       2007                     No Country for Old Men\n",
      "8          Heath Ledger       2008                            The Dark Knight\n",
      "9       Christoph Waltz       2009                       Inglourious Basterds\n",
      "10       Christian Bale       2010                                The Fighter\n",
      "11  Christopher Plummer       2011                                  Beginners\n",
      "12      Christoph Waltz       2012                           Django Unchained\n",
      "13           Jared Leto       2013                         Dallas Buyers Club\n",
      "14         J.K. Simmons       2014                                   Whiplash\n",
      "15         Mark Rylance       2015                            Bridge of Spies\n",
      "16       Mahershala Ali       2016                                  Moonlight\n",
      "17         Sam Rockwell       2017  Three Billboards outside Ebbing, Missouri\n",
      "18       Mahershala Ali       2018                                 Green Book\n",
      "19            Brad Pitt       2019            Once upon a Time...in Hollywood\n",
      "20       Daniel Kaluuya       2020                Judas and the Black Messiah \n",
      "\n",
      "                   name  wins\n",
      "5       Christoph Waltz     2\n",
      "14       Mahershala Ali     2\n",
      "0            Alan Arkin     1\n",
      "10         J.K. Simmons     1\n",
      "17         Sam Rockwell     1\n",
      "16       Morgan Freeman     1\n",
      "15         Mark Rylance     1\n",
      "13        Jim Broadbent     1\n",
      "12        Javier Bardem     1\n",
      "11           Jared Leto     1\n",
      "9          Heath Ledger     1\n",
      "1      Benicio Del Toro     1\n",
      "8        George Clooney     1\n",
      "7        Daniel Kaluuya     1\n",
      "6   Christopher Plummer     1\n",
      "4        Christian Bale     1\n",
      "3          Chris Cooper     1\n",
      "2             Brad Pitt     1\n",
      "18          Tim Robbins     1 \n",
      "\n",
      "The only actor(s) who won on more than one occasion in the 'Supporting Actor' category in the specified time frame: Christoph Waltz, Mahershala Ali\n"
     ]
    }
   ],
   "source": [
    "#ACTOR IN A SUPPORTING ROLE\n",
    "actor_supporting_role_winners = filtered_categories_oscar_award[\n",
    "    (filtered_categories_oscar_award['type'] == 'Supporting Actor') & \n",
    "    (filtered_categories_oscar_award['winner'] == True)]\n",
    "actor_supporting_role_winners = actor_supporting_role_winners.reset_index(drop=True)\n",
    "\n",
    "# Display the DataFrame\n",
    "print(actor_supporting_role_winners[['name', 'year_film', 'film']], \"\\n\")\n",
    "\n",
    "# Group by 'name' and count the wins\n",
    "supporting_actor_win_count = actor_supporting_role_winners.groupby('name')['winner'].sum().reset_index(name='wins')\n",
    "supporting_actor_win_count.sort_values(by='wins', ascending=False, inplace=True)\n",
    "print(supporting_actor_win_count, \"\\n\")\n",
    "\n",
    "# Check if there are multi-time winners and print the statement\n",
    "if any(supporting_actor_win_count['wins'] > 1):\n",
    "    print(\"The only actor(s) who won on more than one occasion in the 'Supporting Actor' category in the specified time frame:\",\n",
    "          \", \".join(supporting_actor_win_count.loc[supporting_actor_win_count['wins'] > 1, 'name']))\n",
    "else:\n",
    "    print(\"No actor has won more than once in the 'Supporting Actor' category in the specified time frame.\")"
   ]
  },
  {
   "cell_type": "markdown",
   "id": "32da8639",
   "metadata": {},
   "source": [
    "### Lead Actress"
   ]
  },
  {
   "cell_type": "markdown",
   "id": "c8b8ba79",
   "metadata": {},
   "source": [
    "The **winners** for the Lead Actress category in our selected timeframe are the following:"
   ]
  },
  {
   "cell_type": "code",
   "execution_count": 11,
   "id": "4b31ef80",
   "metadata": {
    "scrolled": true
   },
   "outputs": [
    {
     "name": "stdout",
     "output_type": "stream",
     "text": [
      "                 name  year_film                                       film\n",
      "0       Julia Roberts       2000                            Erin Brockovich\n",
      "1         Halle Berry       2001                             Monster's Ball\n",
      "2       Nicole Kidman       2002                                  The Hours\n",
      "3     Charlize Theron       2003                                    Monster\n",
      "4        Hilary Swank       2004                        Million Dollar Baby\n",
      "5   Reese Witherspoon       2005                              Walk the Line\n",
      "6        Helen Mirren       2006                                  The Queen\n",
      "7    Marion Cotillard       2007                             La Vie en Rose\n",
      "8        Kate Winslet       2008                                 The Reader\n",
      "9      Sandra Bullock       2009                             The Blind Side\n",
      "10    Natalie Portman       2010                                 Black Swan\n",
      "11       Meryl Streep       2011                              The Iron Lady\n",
      "12  Jennifer Lawrence       2012                    Silver Linings Playbook\n",
      "13     Cate Blanchett       2013                               Blue Jasmine\n",
      "14     Julianne Moore       2014                                Still Alice\n",
      "15        Brie Larson       2015                                       Room\n",
      "16         Emma Stone       2016                                 La La Land\n",
      "17  Frances McDormand       2017  Three Billboards outside Ebbing, Missouri\n",
      "18      Olivia Colman       2018                              The Favourite\n",
      "19    Renée Zellweger       2019                                       Judy\n",
      "20  Frances McDormand       2020                                  Nomadland \n",
      "\n",
      "                 name  wins\n",
      "4   Frances McDormand     2\n",
      "0         Brie Larson     1\n",
      "11       Kate Winslet     1\n",
      "18    Renée Zellweger     1\n",
      "17  Reese Witherspoon     1\n",
      "16      Olivia Colman     1\n",
      "15      Nicole Kidman     1\n",
      "14    Natalie Portman     1\n",
      "13       Meryl Streep     1\n",
      "12   Marion Cotillard     1\n",
      "10     Julianne Moore     1\n",
      "1      Cate Blanchett     1\n",
      "9       Julia Roberts     1\n",
      "8   Jennifer Lawrence     1\n",
      "7        Hilary Swank     1\n",
      "6        Helen Mirren     1\n",
      "5         Halle Berry     1\n",
      "3          Emma Stone     1\n",
      "2     Charlize Theron     1\n",
      "19     Sandra Bullock     1 \n",
      "\n",
      "The only actress(es) who won on more than one occasion in the 'Lead Actress' category in the specified time frame: Frances McDormand\n"
     ]
    }
   ],
   "source": [
    "#ACTRESS IN A LEADING ROLE\n",
    "actress_leading_role_winners = filtered_categories_oscar_award[\n",
    "    (filtered_categories_oscar_award['type'] == 'Lead Actress') & \n",
    "    (filtered_categories_oscar_award['winner'] == True)]\n",
    "actress_leading_role_winners = actress_leading_role_winners.reset_index(drop=True)\n",
    "\n",
    "# Display the DataFrame with a few categories\n",
    "print(actress_leading_role_winners[['name', 'year_film', 'film']], \"\\n\")\n",
    "\n",
    "# Group by 'name' and count the wins\n",
    "leading_actress_win_count = actress_leading_role_winners.groupby('name')['winner'].sum().reset_index(name='wins')\n",
    "leading_actress_win_count.sort_values(by='wins', ascending=False, inplace=True)\n",
    "print(leading_actress_win_count, \"\\n\")\n",
    "\n",
    "# Check if there are multi-time winners and print the statement\n",
    "if any(leading_actress_win_count['wins'] > 1):\n",
    "    print(\"The only actress(es) who won on more than one occasion in the 'Lead Actress' category in the specified time frame:\",\n",
    "          \", \".join(leading_actress_win_count.loc[leading_actress_win_count['wins'] > 1, 'name']))\n",
    "else:\n",
    "    print(\"No actress has won more than once in the 'Lead Actress' category in the specified time frame.\")"
   ]
  },
  {
   "cell_type": "markdown",
   "id": "74edf4dc",
   "metadata": {},
   "source": [
    "### Supporting Actress"
   ]
  },
  {
   "cell_type": "markdown",
   "id": "1638754c",
   "metadata": {},
   "source": [
    "The **winners** for the Supporting Actress category in our selected timeframe are the following:"
   ]
  },
  {
   "cell_type": "code",
   "execution_count": 12,
   "id": "8b6b29cf",
   "metadata": {
    "scrolled": true
   },
   "outputs": [
    {
     "name": "stdout",
     "output_type": "stream",
     "text": [
      "                    name  year_film  \\\n",
      "0      Marcia Gay Harden       2000   \n",
      "1      Jennifer Connelly       2001   \n",
      "2   Catherine Zeta-Jones       2002   \n",
      "3        Renée Zellweger       2003   \n",
      "4         Cate Blanchett       2004   \n",
      "5           Rachel Weisz       2005   \n",
      "6        Jennifer Hudson       2006   \n",
      "7          Tilda Swinton       2007   \n",
      "8          Penélope Cruz       2008   \n",
      "9               Mo'Nique       2009   \n",
      "10           Melissa Leo       2010   \n",
      "11       Octavia Spencer       2011   \n",
      "12         Anne Hathaway       2012   \n",
      "13        Lupita Nyong'o       2013   \n",
      "14     Patricia Arquette       2014   \n",
      "15       Alicia Vikander       2015   \n",
      "16           Viola Davis       2016   \n",
      "17        Allison Janney       2017   \n",
      "18           Regina King       2018   \n",
      "19            Laura Dern       2019   \n",
      "20         Yuh-Jung Youn       2020   \n",
      "\n",
      "                                               film  \n",
      "0                                           Pollock  \n",
      "1                                  A Beautiful Mind  \n",
      "2                                           Chicago  \n",
      "3                                     Cold Mountain  \n",
      "4                                       The Aviator  \n",
      "5                             The Constant Gardener  \n",
      "6                                        Dreamgirls  \n",
      "7                                   Michael Clayton  \n",
      "8                          Vicky Cristina Barcelona  \n",
      "9   Precious: Based on the Novel 'Push' by Sapphire  \n",
      "10                                      The Fighter  \n",
      "11                                         The Help  \n",
      "12                                   Les Misérables  \n",
      "13                                 12 Years a Slave  \n",
      "14                                          Boyhood  \n",
      "15                                  The Danish Girl  \n",
      "16                                           Fences  \n",
      "17                                         I, Tonya  \n",
      "18                       If Beale Street Could Talk  \n",
      "19                                   Marriage Story  \n",
      "20                                           Minari   \n",
      "\n",
      "                    name  wins\n",
      "0        Alicia Vikander     1\n",
      "11              Mo'Nique     1\n",
      "19           Viola Davis     1\n",
      "18         Tilda Swinton     1\n",
      "17       Renée Zellweger     1\n",
      "16           Regina King     1\n",
      "15          Rachel Weisz     1\n",
      "14         Penélope Cruz     1\n",
      "13     Patricia Arquette     1\n",
      "12       Octavia Spencer     1\n",
      "10           Melissa Leo     1\n",
      "1         Allison Janney     1\n",
      "9      Marcia Gay Harden     1\n",
      "8         Lupita Nyong'o     1\n",
      "7             Laura Dern     1\n",
      "6        Jennifer Hudson     1\n",
      "5      Jennifer Connelly     1\n",
      "4   Catherine Zeta-Jones     1\n",
      "3         Cate Blanchett     1\n",
      "2          Anne Hathaway     1\n",
      "20         Yuh-Jung Youn     1 \n",
      "\n",
      "No actress has won more than once in the 'Supporting Actress' category in the specified time frame.\n"
     ]
    }
   ],
   "source": [
    "#ACTRESS IN A SUPPORTING ROLE\n",
    "actress_supporting_role_winners = filtered_categories_oscar_award[\n",
    "    (filtered_categories_oscar_award['type'] == 'Supporting Actress') & \n",
    "    (filtered_categories_oscar_award['winner'] == True)]\n",
    "actress_supporting_role_winners = actress_supporting_role_winners.reset_index(drop=True)\n",
    "\n",
    "# Display the DataFrame with a few categories\n",
    "print(actress_supporting_role_winners[['name', 'year_film', 'film']], \"\\n\")\n",
    "\n",
    "# Group by 'name' and count the wins\n",
    "supporting_actress_win_count = actress_supporting_role_winners.groupby('name')['winner'].sum().reset_index(name='wins')\n",
    "supporting_actress_win_count.sort_values(by='wins', ascending=False, inplace=True)\n",
    "print(supporting_actress_win_count, \"\\n\")\n",
    "\n",
    "# Check if there are multi-time winners and print the statement\n",
    "if any(supporting_actress_win_count['wins'] > 1):\n",
    "    print(\"The only actress(es) who won on more than one occasion in the 'Supporting Actress' category in the specified time frame:\",\n",
    "          \", \".join(supporting_actress_win_count.loc[supporting_actress_win_count['wins'] > 1, 'name']))\n",
    "else:\n",
    "    print(\"No actress has won more than once in the 'Supporting Actress' category in the specified time frame.\")"
   ]
  },
  {
   "cell_type": "markdown",
   "id": "d8c87fa1",
   "metadata": {},
   "source": [
    "### Director"
   ]
  },
  {
   "cell_type": "markdown",
   "id": "5deeed2b",
   "metadata": {},
   "source": [
    "The **winners** for the Director category in our selected timeframe are the following:"
   ]
  },
  {
   "cell_type": "code",
   "execution_count": 13,
   "id": "9b707823",
   "metadata": {
    "scrolled": true
   },
   "outputs": [
    {
     "name": "stdout",
     "output_type": "stream",
     "text": [
      "                           name  year_film  \\\n",
      "0             Steven Soderbergh       2000   \n",
      "1                    Ron Howard       2001   \n",
      "2                Roman Polanski       2002   \n",
      "3                 Peter Jackson       2003   \n",
      "4                Clint Eastwood       2004   \n",
      "5                       Ang Lee       2005   \n",
      "6               Martin Scorsese       2006   \n",
      "7      Joel Coen and Ethan Coen       2007   \n",
      "8                   Danny Boyle       2008   \n",
      "9               Kathryn Bigelow       2009   \n",
      "10                   Tom Hooper       2010   \n",
      "11          Michel Hazanavicius       2011   \n",
      "12                      Ang Lee       2012   \n",
      "13               Alfonso Cuarón       2013   \n",
      "14  Alejandro González Iñárritu       2014   \n",
      "15  Alejandro González Iñárritu       2015   \n",
      "16              Damien Chazelle       2016   \n",
      "17           Guillermo del Toro       2017   \n",
      "18               Alfonso Cuarón       2018   \n",
      "19                 Bong Joon Ho       2019   \n",
      "20                   Chloé Zhao       2020   \n",
      "\n",
      "                                               film  \n",
      "0                                           Traffic  \n",
      "1                                  A Beautiful Mind  \n",
      "2                                       The Pianist  \n",
      "3     The Lord of the Rings: The Return of the King  \n",
      "4                               Million Dollar Baby  \n",
      "5                                Brokeback Mountain  \n",
      "6                                      The Departed  \n",
      "7                            No Country for Old Men  \n",
      "8                               Slumdog Millionaire  \n",
      "9                                   The Hurt Locker  \n",
      "10                                The King's Speech  \n",
      "11                                       The Artist  \n",
      "12                                       Life of Pi  \n",
      "13                                          Gravity  \n",
      "14  Birdman or (The Unexpected Virtue of Ignorance)  \n",
      "15                                     The Revenant  \n",
      "16                                       La La Land  \n",
      "17                               The Shape of Water  \n",
      "18                                             Roma  \n",
      "19                                         Parasite  \n",
      "20                                        Nomadland   \n",
      "\n",
      "                           name  wins\n",
      "0   Alejandro González Iñárritu     2\n",
      "2                       Ang Lee     2\n",
      "1                Alfonso Cuarón     2\n",
      "11              Kathryn Bigelow     1\n",
      "17            Steven Soderbergh     1\n",
      "16                   Ron Howard     1\n",
      "15               Roman Polanski     1\n",
      "14                Peter Jackson     1\n",
      "13          Michel Hazanavicius     1\n",
      "12              Martin Scorsese     1\n",
      "9            Guillermo del Toro     1\n",
      "10                    Joel Coen     1\n",
      "8                    Ethan Coen     1\n",
      "7                   Danny Boyle     1\n",
      "6               Damien Chazelle     1\n",
      "5                Clint Eastwood     1\n",
      "4                    Chloé Zhao     1\n",
      "3                  Bong Joon Ho     1\n",
      "18                   Tom Hooper     1 \n",
      "\n",
      "The only director(s) who won on more than one occasion in the 'Director' category in the specified time frame: Alejandro González Iñárritu, Ang Lee, Alfonso Cuarón\n"
     ]
    }
   ],
   "source": [
    "#DIRECTING\n",
    "director_winners = filtered_categories_oscar_award[\n",
    "    (filtered_categories_oscar_award['type'] == 'Director') & \n",
    "    (filtered_categories_oscar_award['winner'] == True)]\n",
    "director_winners = director_winners.reset_index(drop=True)\n",
    "\n",
    "# Display the DataFrame with a few categories\n",
    "print(director_winners[['name', 'year_film', 'film']], \"\\n\")\n",
    "director_winners['name'] = director_winners['name'].str.replace(' and ', ', ').str.split(', ')\n",
    "director_winners = director_winners.explode('name')\n",
    "\n",
    "# Group by 'name' and count the wins\n",
    "director_win_count = director_winners.groupby('name')['winner'].sum().reset_index(name='wins')\n",
    "director_win_count['name'] = director_win_count['name'].str.strip()  # Trim whitespaces\n",
    "director_win_count.sort_values(by='wins', ascending=False, inplace=True)\n",
    "print(director_win_count, \"\\n\")\n",
    "\n",
    "# Check if there are multi-time winners and print the statement\n",
    "if any(director_win_count['wins'] > 1):\n",
    "    print(\"The only director(s) who won on more than one occasion in the 'Director' category in the specified time frame:\",\n",
    "          \", \".join(director_win_count.loc[director_win_count['wins'] > 1, 'name']))\n",
    "else:\n",
    "    print(\"No director has won more than once in the 'Director' category in the specified time frame.\")"
   ]
  },
  {
   "cell_type": "markdown",
   "id": "fbae2e85",
   "metadata": {},
   "source": [
    "### Writing (Adapted Screenplay)"
   ]
  },
  {
   "cell_type": "markdown",
   "id": "c6352210",
   "metadata": {},
   "source": [
    "The **winners** for the Writing (Adapted Screenplay) category in our selected timeframe are the following:"
   ]
  },
  {
   "cell_type": "code",
   "execution_count": 14,
   "id": "447a7539",
   "metadata": {
    "scrolled": true
   },
   "outputs": [
    {
     "name": "stdout",
     "output_type": "stream",
     "text": [
      "                                                 name  year_film  \\\n",
      "0                        Screenplay by Stephen Gaghan       2000   \n",
      "1                           Written by Akiva Goldsman       2001   \n",
      "2                        Screenplay by Ronald Harwood       2002   \n",
      "3   Screenplay by Fran Walsh, Philippa Boyens & Pe...       2003   \n",
      "4          Screenplay by Alexander Payne & Jim Taylor       2004   \n",
      "5         Screenplay by Larry McMurtry & Diana Ossana       2005   \n",
      "6                       Screenplay by William Monahan       2006   \n",
      "7    Written for the screen by Joel Coen & Ethan Coen       2007   \n",
      "8                         Screenplay by Simon Beaufoy       2008   \n",
      "9                     Screenplay by Geoffrey Fletcher       2009   \n",
      "10                         Screenplay by Aaron Sorkin       2010   \n",
      "11  Screenplay by Alexander Payne and Nat Faxon & ...       2011   \n",
      "12                         Screenplay by Chris Terrio       2012   \n",
      "13                          Screenplay by John Ridley       2013   \n",
      "14                            Written by Graham Moore       2014   \n",
      "15      Screenplay by Charles Randolph and Adam McKay       2015   \n",
      "16  Screenplay by Barry Jenkins; Story by Tarell A...       2016   \n",
      "17                          Screenplay by James Ivory       2017   \n",
      "18  Written by Charlie Wachtel & David Rabinowitz ...       2018   \n",
      "19                        Screenplay by Taika Waititi       2019   \n",
      "20  Screenplay by Christopher Hampton and Florian ...       2020   \n",
      "\n",
      "                                               film  \n",
      "0                                           Traffic  \n",
      "1                                  A Beautiful Mind  \n",
      "2                                       The Pianist  \n",
      "3     The Lord of the Rings: The Return of the King  \n",
      "4                                          Sideways  \n",
      "5                                Brokeback Mountain  \n",
      "6                                      The Departed  \n",
      "7                            No Country for Old Men  \n",
      "8                               Slumdog Millionaire  \n",
      "9   Precious: Based on the Novel 'Push' by Sapphire  \n",
      "10                               The Social Network  \n",
      "11                                  The Descendants  \n",
      "12                                             Argo  \n",
      "13                                 12 Years a Slave  \n",
      "14                               The Imitation Game  \n",
      "15                                    The Big Short  \n",
      "16                                        Moonlight  \n",
      "17                             Call Me by Your Name  \n",
      "18                                   BlacKkKlansman  \n",
      "19                                      Jojo Rabbit  \n",
      "20                                       The Father   \n",
      "\n",
      "                     name  wins\n",
      "3         Alexander Payne     2\n",
      "0            Aaron Sorkin     1\n",
      "25        Philippa Boyens     1\n",
      "19              Joel Coen     1\n",
      "20            John Ridley     1\n",
      "21         Kevin Willmott     1\n",
      "22         Larry McMurtry     1\n",
      "23              Nat Faxon     1\n",
      "24          Peter Jackson     1\n",
      "26         Ronald Harwood     1\n",
      "17               Jim Rash     1\n",
      "27          Simon Beaufoy     1\n",
      "28              Spike Lee     1\n",
      "29         Stephen Gaghan     1\n",
      "30          Taika Waititi     1\n",
      "31  Tarell Alvin McCraney     1\n",
      "18             Jim Taylor     1\n",
      "16            James Ivory     1\n",
      "1              Adam McKay     1\n",
      "15           Graham Moore     1\n",
      "14      Geoffrey Fletcher     1\n",
      "13             Fran Walsh     1\n",
      "12         Florian Zeller     1\n",
      "11             Ethan Coen     1\n",
      "10           Diana Ossana     1\n",
      "9        David Rabinowitz     1\n",
      "8     Christopher Hampton     1\n",
      "7            Chris Terrio     1\n",
      "6         Charlie Wachtel     1\n",
      "5        Charles Randolph     1\n",
      "4           Barry Jenkins     1\n",
      "2          Akiva Goldsman     1\n",
      "32        William Monahan     1 \n",
      "\n",
      "The only writer(s) who won on more than one occasion in the 'Adapted Screenplay' category in the specified time frame: Alexander Payne\n"
     ]
    }
   ],
   "source": [
    "# WRITER (Adapted Screenplay)\n",
    "writer_adapted_winners = filtered_categories_oscar_award[\n",
    "    (filtered_categories_oscar_award['type'] == 'Writer Adaptation') & \n",
    "    (filtered_categories_oscar_award['winner'] == True)]\n",
    "writer_adapted_winners = writer_adapted_winners.reset_index(drop=True)\n",
    "\n",
    "# Display the DataFrame with a few categories\n",
    "print(writer_adapted_winners[['name', 'year_film', 'film']], \"\\n\")\n",
    "\n",
    "# Replace patterns with commas and separate rows\n",
    "writer_adapted_winners['name'] = writer_adapted_winners['name'].replace({\n",
    "    \"^(Story by|Screenplay by|Written by|Written for the screen by|Stories by)|[;\\\\s]*Screenplay by|[;\\\\s]*Story by|[;\\\\s]*[&,]|([;,]|\\\\s+and\\\\s+)|\\\\s+$\": \", \"\n",
    "}, regex=True)\n",
    "\n",
    "# Split names and separate rows\n",
    "writer_adapted_winners['name'] = writer_adapted_winners['name'].str.split(', |\\\\s+and\\\\s+|\\\\s+&\\\\s+|,\\\\s*')\n",
    "\n",
    "# Explode the lists to separate rows for each name\n",
    "writer_adapted_winners_exploded = writer_adapted_winners.explode('name')\n",
    "\n",
    "# Filter out empty and all-whitespace names\n",
    "writer_adapted_winners_exploded = writer_adapted_winners_exploded[~writer_adapted_winners_exploded['name'].str.match('^\\\\s*$')]\n",
    "\n",
    "# Trim whitespaces\n",
    "writer_adapted_winners_exploded['name'] = writer_adapted_winners_exploded['name'].str.strip()\n",
    "\n",
    "# Group by 'name' and count the wins\n",
    "writer_adapted_win_count = writer_adapted_winners_exploded.groupby('name')['winner'].sum().reset_index(name='wins')\n",
    "writer_adapted_win_count.sort_values(by='wins', ascending=False, inplace=True)\n",
    "print(writer_adapted_win_count, \"\\n\")\n",
    "\n",
    "# Check if there are multi-time winners and print the statement\n",
    "if any(writer_adapted_win_count['wins'] > 1):\n",
    "    print(\"The only writer(s) who won on more than one occasion in the 'Adapted Screenplay' category in the specified time frame:\",\n",
    "          \", \".join(writer_adapted_win_count.loc[writer_adapted_win_count['wins'] > 1, 'name']))\n",
    "else:\n",
    "    print(\"No writer has won more than once in the 'Adapted Screenplay' category in the specified time frame.\")"
   ]
  },
  {
   "cell_type": "markdown",
   "id": "45c819e2",
   "metadata": {},
   "source": [
    "### Writing (Original Screenplay)"
   ]
  },
  {
   "cell_type": "markdown",
   "id": "536d7428",
   "metadata": {},
   "source": [
    "The **winners** for the Writing (Original Screenplay) category in our selected timeframe are the following:"
   ]
  },
  {
   "cell_type": "code",
   "execution_count": 15,
   "id": "b62ca6d2",
   "metadata": {
    "scrolled": true
   },
   "outputs": [
    {
     "name": "stdout",
     "output_type": "stream",
     "text": [
      "                                                 name  year_film  \\\n",
      "0                            Written by Cameron Crowe       2000   \n",
      "1                          Written by Julian Fellowes       2001   \n",
      "2                          Written by Pedro Almodóvar       2002   \n",
      "3                            Written by Sofia Coppola       2003   \n",
      "4   Screenplay by Charlie Kaufman; Story by Charli...       2004   \n",
      "5   Screenplay by Paul Haggis & Bobby Moresco; Sto...       2005   \n",
      "6                            Written by Michael Arndt       2006   \n",
      "7                              Written by Diablo Cody       2007   \n",
      "8                       Written by Dustin Lance Black       2008   \n",
      "9                                Written by Mark Boal       2009   \n",
      "10                        Screenplay by David Seidler       2010   \n",
      "11                             Written by Woody Allen       2011   \n",
      "12                       Written by Quentin Tarantino       2012   \n",
      "13                             Written by Spike Jonze       2013   \n",
      "14  Written by Alejandro González Iñárritu, Nicolá...       2014   \n",
      "15              Written by Josh Singer & Tom McCarthy       2015   \n",
      "16                        Written by Kenneth Lonergan       2016   \n",
      "17                            Written by Jordan Peele       2017   \n",
      "18  Written by Nick Vallelonga, Brian Currie, Pete...       2018   \n",
      "19  Screenplay by Bong Joon Ho, Han Jin Won; Story...       2019   \n",
      "20                         Written by Emerald Fennell       2020   \n",
      "\n",
      "                                               film  \n",
      "0                                     Almost Famous  \n",
      "1                                      Gosford Park  \n",
      "2                                       Talk to Her  \n",
      "3                               Lost in Translation  \n",
      "4             Eternal Sunshine of the Spotless Mind  \n",
      "5                                             Crash  \n",
      "6                              Little Miss Sunshine  \n",
      "7                                              Juno  \n",
      "8                                              Milk  \n",
      "9                                   The Hurt Locker  \n",
      "10                                The King's Speech  \n",
      "11                                Midnight in Paris  \n",
      "12                                 Django Unchained  \n",
      "13                                              Her  \n",
      "14  Birdman or (The Unexpected Virtue of Ignorance)  \n",
      "15                                        Spotlight  \n",
      "16                            Manchester by the Sea  \n",
      "17                                          Get Out  \n",
      "18                                       Green Book  \n",
      "19                                         Parasite  \n",
      "20                            Promising Young Woman   \n",
      "\n",
      "                           name  wins\n",
      "4                  Bong Joon Ho     2\n",
      "7               Charlie Kaufman     2\n",
      "22                  Paul Haggis     2\n",
      "0   Alejandro González Iñárritu     1\n",
      "17                    Mark Boal     1\n",
      "29                 Tom McCarthy     1\n",
      "28                  Spike Jonze     1\n",
      "27                Sofia Coppola     1\n",
      "26            Quentin Tarantino     1\n",
      "25               Pierre Bismuth     1\n",
      "24               Peter Farrelly     1\n",
      "23              Pedro Almodóvar     1\n",
      "21            Nicolás Giacobone     1\n",
      "20              Nick Vallelonga     1\n",
      "19                Michel Gondry     1\n",
      "18                Michael Arndt     1\n",
      "15              Julian Fellowes     1\n",
      "16             Kenneth Lonergan     1\n",
      "1       Alexander Dinelaris Jr.     1\n",
      "14                  Josh Singer     1\n",
      "13                 Jordan Peele     1\n",
      "12                  Han Jin Won     1\n",
      "11              Emerald Fennell     1\n",
      "10           Dustin Lance Black     1\n",
      "9                   Diablo Cody     1\n",
      "8                 David Seidler     1\n",
      "6                 Cameron Crowe     1\n",
      "5                  Brian Currie     1\n",
      "3                 Bobby Moresco     1\n",
      "2                    Armando Bo     1\n",
      "30                  Woody Allen     1 \n",
      "\n",
      "The only writer(s) who won on more than one occasion in the 'Original Screenplay' category in the specified time frame: Bong Joon Ho, Charlie Kaufman, Paul Haggis\n"
     ]
    }
   ],
   "source": [
    "#WRITING (Original Screenplay)\n",
    "writing_original_winners = filtered_categories_oscar_award[\n",
    "    (filtered_categories_oscar_award['type'] == 'Writer Original') & \n",
    "    (filtered_categories_oscar_award['winner'] == True)]\n",
    "writing_original_winners = writing_original_winners.reset_index(drop=True)\n",
    "\n",
    "# Display the DataFrame with a few categories\n",
    "print(writing_original_winners[['name', 'year_film', 'film']], \"\\n\")\n",
    "\n",
    "# Replace patterns with commas and separate rows\n",
    "writing_original_winners['name'] = writing_original_winners['name'].replace({\n",
    "    \"^(Story by|Screenplay by|Written by|Written for the screen by|Stories by)|[;\\\\s]*Screenplay by|[;\\\\s]*Story by|[;\\\\s]*[&,]|([;,]|\\\\s+and\\\\s+)|\\\\s+$\": \", \"\n",
    "}, regex=True)\n",
    "\n",
    "# Split names and separate rows\n",
    "writing_original_winners['name'] = writing_original_winners['name'].str.split(', |\\\\s+and\\\\s+|\\\\s+&\\\\s+|,\\\\s*')\n",
    "\n",
    "# Explode the lists to separate rows for each name\n",
    "writing_original_winners_exploded = writing_original_winners.explode('name')\n",
    "\n",
    "# Filter out empty and all-whitespace names\n",
    "writing_original_winners_exploded = writing_original_winners_exploded[~writing_original_winners_exploded['name'].str.match('^\\\\s*$')]\n",
    "\n",
    "# Trim whitespaces\n",
    "writing_original_winners_exploded['name'] = writing_original_winners_exploded['name'].str.strip()\n",
    "\n",
    "# Group by 'name' and count the wins\n",
    "writer_original_win_count = writing_original_winners_exploded.groupby('name')['winner'].sum().reset_index(name='wins')\n",
    "writer_original_win_count.sort_values(by='wins', ascending=False, inplace=True)\n",
    "print(writer_original_win_count, '\\n')\n",
    "\n",
    "# Check if there are multi-time winners and print the statement\n",
    "if any(writer_original_win_count['wins'] > 1):\n",
    "    print(\"The only writer(s) who won on more than one occasion in the 'Original Screenplay' category in the specified time frame:\",\n",
    "          \", \".join(writer_original_win_count.loc[writer_original_win_count['wins'] > 1, 'name']))\n",
    "else:\n",
    "    print(\"No writer has won more than once in the 'Original Screenplay' category in the specified time frame.\")"
   ]
  },
  {
   "cell_type": "markdown",
   "id": "49c9911f",
   "metadata": {},
   "source": [
    "### Winners breakdown"
   ]
  },
  {
   "cell_type": "markdown",
   "id": "7afb1ac9",
   "metadata": {},
   "source": [
    "If you merge all the previously generated tables, you'll obtain a tibble that displays all the winners along with their respective win counts. \n",
    "\n",
    "Additionally, it highlights individuals who secured more than one award within this designated timeframe."
   ]
  },
  {
   "cell_type": "code",
   "execution_count": 16,
   "id": "722d75f5",
   "metadata": {},
   "outputs": [
    {
     "name": "stdout",
     "output_type": "stream",
     "text": [
      "The total number of winners was: 155.\n",
      "\n",
      "People with the most wins:\n",
      "                          name  wins\n",
      "0  Alejandro González Iñárritu     3\n",
      "1                 Bong Joon Ho     3\n"
     ]
    }
   ],
   "source": [
    "# Concatenate DataFrames vertically\n",
    "winners_total = pd.concat([\n",
    "    leading_actor_win_count, supporting_actor_win_count, leading_actress_win_count,\n",
    "    supporting_actress_win_count, director_win_count, writer_adapted_win_count, writer_original_win_count\n",
    "], ignore_index=True)\n",
    "\n",
    "# Trim whitespaces\n",
    "winners_total['name'] = winners_total['name'].str.strip()\n",
    "\n",
    "# Group by 'name' and count the wins\n",
    "winners_total = winners_total.groupby('name')['wins'].sum().reset_index(name='wins')\n",
    "\n",
    "# Sort by wins in descending order and then by name\n",
    "winners_total.sort_values(by=['wins', 'name'], ascending=[False, True], inplace=True)\n",
    "winners_total = winners_total.reset_index(drop=True)\n",
    "\n",
    "# Print the total number of winners\n",
    "winners_count = winners_total.shape[0]\n",
    "\n",
    "print(f'The total number of winners was: {winners_count}.\\n')\n",
    "\n",
    "# Get the total number of winners\n",
    "most_wins_overall = winners_total[winners_total['wins'] == winners_total['wins'].max()]\n",
    "print(\"People with the most wins:\")\n",
    "print(most_wins_overall)"
   ]
  },
  {
   "cell_type": "markdown",
   "id": "b4ed8af3",
   "metadata": {},
   "source": [
    "Create a table containing individuals who secured **more than one award** within the specified time frame."
   ]
  },
  {
   "cell_type": "code",
   "execution_count": 17,
   "id": "88e07e51",
   "metadata": {},
   "outputs": [
    {
     "name": "stdout",
     "output_type": "stream",
     "text": [
      "                           name  wins\n",
      "0   Alejandro González Iñárritu     3\n",
      "1                  Bong Joon Ho     3\n",
      "2               Alexander Payne     2\n",
      "3                Alfonso Cuarón     2\n",
      "4                       Ang Lee     2\n",
      "5                Cate Blanchett     2\n",
      "6               Charlie Kaufman     2\n",
      "7               Christoph Waltz     2\n",
      "8              Daniel Day-Lewis     2\n",
      "9                    Ethan Coen     2\n",
      "10            Frances McDormand     2\n",
      "11                    Joel Coen     2\n",
      "12               Mahershala Ali     2\n",
      "13                  Paul Haggis     2\n",
      "14                Peter Jackson     2\n",
      "15              Renée Zellweger     2\n",
      "16                    Sean Penn     2 \n",
      "\n",
      "The total number of multi-time winners was: 17.\n"
     ]
    }
   ],
   "source": [
    "# Filter for multi-time winners and create a copy\n",
    "multi_time_winners = winners_total[winners_total['wins'] > 1].copy()\n",
    "\n",
    "# Sort by wins in descending order and then by name\n",
    "multi_time_winners.sort_values(by=['wins', 'name'], ascending=[False, True], inplace=True)\n",
    "print(multi_time_winners, \"\\n\")\n",
    "\n",
    "# Get the total number of multi-time winners\n",
    "multitime_winners_count = multi_time_winners.shape[0]\n",
    "\n",
    "# Print the total number of people who won more than one Award\n",
    "print(f'The total number of multi-time winners was: {multitime_winners_count}.')"
   ]
  },
  {
   "cell_type": "markdown",
   "id": "ce2cc899",
   "metadata": {},
   "source": [
    "Create a table containing individuals who won in **multiple categories** within the specified time frame."
   ]
  },
  {
   "cell_type": "code",
   "execution_count": 18,
   "id": "c5266285",
   "metadata": {},
   "outputs": [
    {
     "name": "stdout",
     "output_type": "stream",
     "text": [
      "              name  unique_categories\n",
      "0   Cate Blanchett                  2\n",
      "1  Renée Zellweger                  2 \n",
      "\n",
      "The total number of multiple category winners was: 2.\n"
     ]
    }
   ],
   "source": [
    "# Group by 'name' and count the number of unique categories each winner has won in\n",
    "multiple_category_winners = awards_given_in_timeframe.groupby('name')['type'].nunique().reset_index(name='unique_categories')\n",
    "\n",
    "# Filter for winners with more than one unique category\n",
    "multiple_category_winners = multiple_category_winners[multiple_category_winners['unique_categories'] > 1]\n",
    "multiple_category_winners = multiple_category_winners.reset_index(drop=True)\n",
    "\n",
    "print(multiple_category_winners, \"\\n\")\n",
    "\n",
    "# Get the total number of multiple category winners\n",
    "multiple_category_winners_count = multiple_category_winners.shape[0]\n",
    "\n",
    "# Print the total number of people who won on more than one category\n",
    "print(f'The total number of multiple category winners was: {multiple_category_winners_count}.')"
   ]
  },
  {
   "cell_type": "markdown",
   "id": "d98fd4b4",
   "metadata": {},
   "source": [
    "Generate a list of all the nominations received for individuals who **won** Oscars during the specified time period."
   ]
  },
  {
   "cell_type": "code",
   "execution_count": 19,
   "id": "19cb6022",
   "metadata": {},
   "outputs": [
    {
     "name": "stdout",
     "output_type": "stream",
     "text": [
      "There have been a combined 281 Oscar nominations for the people who have won an Oscar.\n"
     ]
    }
   ],
   "source": [
    "# Perform a left join\n",
    "nominations_for_winners = pd.merge(winners_total, filtered_categories_oscar_award, on='name', how='left')\n",
    "\n",
    "# Sort the resulting DataFrame\n",
    "nominations_for_winners.sort_values(by=['name', 'year_film'], inplace=True)\n",
    "#print(nominations_for_winners)\n",
    "\n",
    "# Print the summary\n",
    "print(f\"There have been a combined {len(nominations_for_winners)} Oscar nominations for the people who have won an Oscar.\")"
   ]
  },
  {
   "cell_type": "markdown",
   "id": "aa62f611",
   "metadata": {},
   "source": [
    "Count the nominations received by individuals **after** winning an Oscar, and **include** the year of their win in the resulting table."
   ]
  },
  {
   "cell_type": "code",
   "execution_count": 20,
   "id": "fcf1384d",
   "metadata": {},
   "outputs": [
    {
     "name": "stdout",
     "output_type": "stream",
     "text": [
      "There have been a combined 167 Oscar nominations for people after they won their first Academy Award (Including their win).\n"
     ]
    }
   ],
   "source": [
    "# Drop rows with missing values\n",
    "nominations_after_win = nominations_for_winners.dropna(subset=['year_film', 'winner'])\n",
    "\n",
    "# Find the first winning year for each 'name' group\n",
    "first_win_years = nominations_after_win[nominations_after_win['winner']].groupby('name')['year_film'].min().reset_index()\n",
    "\n",
    "# Merge the first_win_years DataFrame with nominations_after_win\n",
    "merged_df = pd.merge(nominations_after_win, first_win_years, on=['name'])\n",
    "\n",
    "# Filter the DataFrame to include only rows with years greater than or equal to the first win year\n",
    "nominations_after_win = merged_df[merged_df['year_film_x'] >= merged_df['year_film_y']]\n",
    "\n",
    "# Drop the redundant column (first_win year)\n",
    "nominations_after_win = nominations_after_win.drop(columns=['year_film_y'])\n",
    "\n",
    "# Rename the 'year_film_x' column to 'year_film'\n",
    "nominations_after_win = nominations_after_win.rename(columns={'year_film_x': 'year_film'})\n",
    "nominations_after_win = nominations_after_win.sort_values(by=['name', 'year_film', 'winner'], ascending=[True, True, False]).reset_index(drop=True)\n",
    "\n",
    "\n",
    "# Print the summary\n",
    "print(f\"There have been a combined {len(nominations_after_win)} Oscar nominations for people after they won their first Academy Award (Including their win).\")"
   ]
  },
  {
   "cell_type": "markdown",
   "id": "14ca1486",
   "metadata": {},
   "source": [
    "Last but not least, exclude the rows where individuals **won their first** Oscar, showing only the nominations they received after their first win."
   ]
  },
  {
   "cell_type": "code",
   "execution_count": 27,
   "id": "8e928edc",
   "metadata": {},
   "outputs": [
    {
     "name": "stdout",
     "output_type": "stream",
     "text": [
      "• There were 48 people who got Oscar nominations after they won their first Academy Award (excluding their win).\n",
      "• There have been a combined 73 Oscar nominations for people after they won their first Academy Award (excluding their win).\n",
      "• The person with the most nominations after their first win is Cate Blanchett with a count of 5.\n"
     ]
    }
   ],
   "source": [
    "# Group by 'name' and count the nominations after they won an Oscar\n",
    "final_nominations_after_first_win = nominations_after_win.groupby('name').filter(lambda x: len(x) > 1).groupby('name')['year_film'].count().reset_index(name='nomination_count')\n",
    "\n",
    "# Subtract 1 to get the count excluding their win year\n",
    "final_nominations_after_first_win['nomination_count'] = final_nominations_after_first_win['nomination_count'] - 1\n",
    "\n",
    "# Sort by nomination_count in descending order and then by name\n",
    "final_nominations_after_first_win.sort_values(by=['nomination_count', 'name'], ascending=[False, True], inplace=True)\n",
    "final_nominations_after_first_win.reset_index(drop=True, inplace=True)\n",
    "\n",
    "# Some statistics\n",
    "unique_nominees_after_first_win = final_nominations_after_first_win['name'].nunique()\n",
    "total_nominations_after_first_win = final_nominations_after_first_win['nomination_count'].sum()\n",
    "most_nominated_person = final_nominations_after_first_win.loc[final_nominations_after_first_win['nomination_count'].idxmax(), 'name']\n",
    "most_nominations_count = final_nominations_after_first_win['nomination_count'].max()\n",
    "\n",
    "print(f\"• There were {unique_nominees_after_first_win} people who got Oscar nominations after they won their first Academy Award (excluding their win).\")\n",
    "print(f\"• There have been a combined {total_nominations_after_first_win} Oscar nominations for people after they won their first Academy Award (excluding their win).\")\n",
    "print(f\"• The person with the most nominations after their first win is {most_nominated_person} with a count of {most_nominations_count}.\")\n"
   ]
  },
  {
   "cell_type": "markdown",
   "id": "546ca4f7",
   "metadata": {},
   "source": [
    "### Summary"
   ]
  },
  {
   "cell_type": "markdown",
   "id": "f7dbfb9d",
   "metadata": {},
   "source": [
    "Here are some ratios obtained from our analysis, which will help us showcase our results."
   ]
  },
  {
   "cell_type": "code",
   "execution_count": 28,
   "id": "bca02343",
   "metadata": {
    "scrolled": false
   },
   "outputs": [
    {
     "name": "stdout",
     "output_type": "stream",
     "text": [
      "• Winners ratio: 29.87%\n",
      "• Nominations after win winner ratio: 30.97%\n",
      "• Nominees after win ratio: 9.25%\n",
      "• One nomination ratio: 75.34%\n"
     ]
    }
   ],
   "source": [
    "# Some ratios from our results\n",
    "winners_ratio = round(winners_count / unique_nominee_count * 100, 2)\n",
    "nominations_after_win_winner_ratio = round(unique_nominees_after_first_win / winners_count * 100, 2)\n",
    "nominees_after_win_ratio = round(unique_nominees_after_first_win / unique_nominee_count * 100, 2)\n",
    "one_nomination_ratio = round(nomination_table['count'].iloc[0] / unique_nominee_count * 100, 2)\n",
    "\n",
    "print(f\"• Winners ratio: {winners_ratio}%\")\n",
    "print(f\"• Nominations after win winner ratio: {nominations_after_win_winner_ratio}%\")\n",
    "print(f\"• Nominees after win ratio: {nominees_after_win_ratio}%\")\n",
    "print(f\"• One nomination ratio: {one_nomination_ratio}%\")"
   ]
  },
  {
   "cell_type": "markdown",
   "id": "1be56181",
   "metadata": {},
   "source": [
    "Finally, here's a brief Summary of the findings we obtained from our analysis."
   ]
  },
  {
   "cell_type": "code",
   "execution_count": 23,
   "id": "449bdbf2",
   "metadata": {
    "scrolled": false
   },
   "outputs": [
    {
     "name": "stdout",
     "output_type": "stream",
     "text": [
      "Summary:\n",
      "\n",
      "• The time frame selected for this analysis was from 2000 to 2020.\n",
      "• There were 7 categories evaluated: Best Actor, Best Actress, Best Director, Best Supporting Actor, Best Supporting Actress, Original Screenplay, and Adapted Screenplay.\n",
      "• Nomination Count (Selected time frame using the filtered categories): 735.\n",
      "• Unique Nominee Count (Count each name only once): 519.\n",
      "• The person with the most nominations is Meryl Streep with a count of 9.\n",
      "• There were 147 awards given in the time frame selected.\n",
      "• The total number of winners was: 155.\n",
      "• The total number of multi-time winners was: 17.\n",
      "• The total number of multiple category winners was: 2.\n",
      "• People with the most wins: Alejandro González Iñárritu, Bong Joon Ho, with a count of 3 wins.\n",
      "• The percentage of Oscar winners with respect to unique nominees is 29.87%\n",
      "• The number of individuals with only one nomination in the selected time frame is: 391.\n",
      "• The percentage of individuals with only one nomination with respect to overall unique nominees is: 75.34%\n",
      "• There have been a combined 73 Oscar nominations for people after they won their first Academy Award (excluding their win).\n",
      "• There were 48 people who got a nomination AFTER they secured their first win.\n",
      "• The percentage of people who got a nomination after their first-time win with respect to Oscar winners is 30.97%\n",
      "• The percentage of people who got a nomination after their first-time win with respect to overall unique nominees is 9.25%\n",
      "• The person with the most nominations after their first win is Cate Blanchett with a count of 5.\n"
     ]
    }
   ],
   "source": [
    "# Print the summary\n",
    "print(f\"Summary:\\n\\n\"\n",
    "      f\"• The time frame selected for this analysis was from {filtered_year_oscar_award['year_film'].iloc[0]} to {filtered_year_oscar_award['year_film'].iloc[-1]}.\\n\"\n",
    "      f\"• There were 7 categories evaluated: Best Actor, Best Actress, Best Director, Best Supporting Actor, Best Supporting Actress, Original Screenplay, and Adapted Screenplay.\\n\"\n",
    "      f\"• Nomination Count (Selected time frame using the filtered categories): {nomination_count}.\\n\"\n",
    "      f\"• Unique Nominee Count (Count each name only once): {unique_nominee_count}.\\n\"\n",
    "      f\"• The person with the most nominations is {most_nominated_person_overall} with a count of {most_nominations_overall_count}.\\n\"\n",
    "      f\"• There were {len(awards_given_in_timeframe)} awards given in the time frame selected.\\n\"\n",
    "      f\"• The total number of winners was: {winners_count}.\\n\"\n",
    "      f\"• The total number of multi-time winners was: {multitime_winners_count}.\\n\"\n",
    "      f\"• The total number of multiple category winners was: {multiple_category_winners_count}.\\n\"\n",
    "      f\"• People with the most wins: {', '.join(map(str, most_wins_overall['name'].tolist()))}, with a count of {most_wins_overall['wins'].iloc[0]} wins.\\n\"\n",
    "      f\"• The percentage of Oscar winners with respect to unique nominees is {winners_ratio}%\\n\"\n",
    "      f\"• The number of individuals with only one nomination in the selected time frame is: {nomination_table['count'].iloc[0]}.\\n\"\n",
    "      f\"• The percentage of individuals with only one nomination with respect to overall unique nominees is: {one_nomination_ratio}%\\n\"\n",
    "      f\"• There have been a combined {total_nominations_after_first_win} Oscar nominations for people after they won their first Academy Award (excluding their win).\\n\"      \n",
    "      f\"• There were {unique_nominees_after_first_win} people who got a nomination AFTER they secured their first win.\\n\"\n",
    "      f\"• The percentage of people who got a nomination after their first-time win with respect to Oscar winners is {nominations_after_win_winner_ratio}%\\n\"\n",
    "      f\"• The percentage of people who got a nomination after their first-time win with respect to overall unique nominees is {nominees_after_win_ratio}%\\n\"\n",
    "      f\"• The person with the most nominations after their first win is {most_nominated_person} with a count of {most_nominations_count}.\"\n",
    ")"
   ]
  },
  {
   "cell_type": "markdown",
   "id": "2d67e910",
   "metadata": {},
   "source": [
    "### Visuals and graphs"
   ]
  },
  {
   "cell_type": "markdown",
   "id": "414afed1",
   "metadata": {},
   "source": [
    "Generate a Pie chart depicting the distribution of distinct winners across each category. The intention is for Lead Actor, Supporting Actor, Lead Actress, and Supporting Actress categories to typically feature a single winner annually, although individuals may secure multiple wins over different years. In contrast, categories such as Director, Original Writing, and Adapted Writing, characterized by collaborative efforts, may exhibit instances of multiple winners within the same year."
   ]
  },
  {
   "cell_type": "code",
   "execution_count": 24,
   "id": "71611ceb",
   "metadata": {},
   "outputs": [
    {
     "name": "stdout",
     "output_type": "stream",
     "text": [
      "A tibble that shows the number of unique winners in each category:\n",
      "\n",
      "             Category  Count\n",
      "0       Leading Actor     19\n",
      "1    Supporting Actor     19\n",
      "2        Lead Actress     20\n",
      "3  Supporting Actress     21\n",
      "4            Director     19\n",
      "5    Writer (Adapted)     33\n",
      "6   Writer (Original)     31\n"
     ]
    },
    {
     "data": {
      "image/png": "[encoded data removed]",
      "text/plain": [
       "<Figure size 800x800 with 1 Axes>"
      ]
     },
     "metadata": {},
     "output_type": "display_data"
    }
   ],
   "source": [
    "# Store the counts  in variables\n",
    "leading_actor_count = len(leading_actor_win_count)\n",
    "supporting_actor_count = len(supporting_actor_win_count)\n",
    "leading_actress_count = len(leading_actress_win_count)\n",
    "supporting_actress_count = len(supporting_actress_win_count)\n",
    "director_count = len(director_win_count)\n",
    "writer_adapted_count = len(writer_adapted_win_count)\n",
    "writer_original_count = len(writer_original_win_count)\n",
    "\n",
    "# Data for the pie chart\n",
    "counts = [leading_actor_count, supporting_actor_count, leading_actress_count,\n",
    "          supporting_actress_count, director_count, writer_adapted_count, writer_original_count]\n",
    "categories = ['Leading Actor', 'Supporting Actor', 'Lead Actress',\n",
    "              'Supporting Actress', 'Director', 'Writer (Adapted)', 'Writer (Original)']\n",
    "\n",
    "tibble_unique_winners_categories = pd.DataFrame({'Category': categories, 'Count': counts})\n",
    "print(f\"A tibble that shows the number of unique winners in each category:\\n\")\n",
    "print(tibble_unique_winners_categories)\n",
    "\n",
    "# Plot the pie chart\n",
    "plt.figure(figsize=(8, 8))\n",
    "plt.pie(counts, labels=categories, autopct='%1.2f%%', startangle=140, colors=plt.cm.Paired.colors)\n",
    "plt.title('Distribution of Unique Winners in Each Category')\n",
    "\n",
    "# Show the plot\n",
    "plt.show()"
   ]
  },
  {
   "cell_type": "markdown",
   "id": "d9579101",
   "metadata": {},
   "source": [
    "Generate a Line plot representing the distribution of individuals based on the number of nominations they received, ranging from 1 nomination, to 10 nominations. This visualization may utilize the `nomination_table` established earlier."
   ]
  },
  {
   "cell_type": "code",
   "execution_count": 25,
   "id": "52f28590",
   "metadata": {
    "scrolled": true
   },
   "outputs": [
    {
     "data": {
      "image/png": "[encoded data removed]",
      "text/plain": [
       "<Figure size 1000x600 with 1 Axes>"
      ]
     },
     "metadata": {},
     "output_type": "display_data"
    }
   ],
   "source": [
    "# Create a Line plot\n",
    "plt.figure(figsize=(10, 6))\n",
    "plt.plot(nomination_table['nominations'], nomination_table['count'], marker='o', color='skyblue')\n",
    "\n",
    "# Add count labels above the points\n",
    "for i, count in enumerate(nomination_table['count']):\n",
    "    plt.text(nomination_table['nominations'][i], count + 0.2, str(count), ha='center')\n",
    "\n",
    "# Format your plot\n",
    "plt.xlabel('Number of Nominations')\n",
    "plt.ylabel('Count')\n",
    "plt.title('Nomination Counts Distribution (Line Plot)')\n",
    "plt.xticks(nomination_table['nominations'])\n",
    "plt.grid(True)\n",
    "plt.tight_layout()\n",
    "plt.show()"
   ]
  },
  {
   "cell_type": "markdown",
   "id": "b1d913e1",
   "metadata": {},
   "source": [
    "***"
   ]
  },
  {
   "cell_type": "markdown",
   "id": "7eba6ce1",
   "metadata": {},
   "source": [
    "## Conclusion"
   ]
  },
  {
   "cell_type": "markdown",
   "id": "adc01b7e",
   "metadata": {},
   "source": [
    "This marks the conclusion of the Notebook. By utilizing an extensive dataset that encapsulates the history of the Academy Awards, we extracted valuable insights into the distribution of awards and nominations. While this study provides a concise overview, the dataset holds potential for more in-depth analyses. There are possibilities to explore the distribution of nominations and wins based on gender, ethnicity, or nationality. Additionally, we could analyze other datasets that provide information on the genre and runtime of all the movies. Another avenue is to find datasets on box office returns and merge them with this dataset, unlocking a new range of insights.\n",
    "\n",
    "I hope you found this exploration engaging, and I appreciate the opportunity to share these findings with you!\n",
    "\n",
    "Thank you!"
   ]
  },
  {
   "cell_type": "code",
   "execution_count": 26,
   "id": "28d3c724",
   "metadata": {},
   "outputs": [
    {
     "data": {
      "image/jpeg": "[encoded data removed]",
      "text/plain": [
       "<IPython.core.display.Image object>"
      ]
     },
     "metadata": {},
     "output_type": "display_data"
    }
   ],
   "source": [
    "from IPython.display import Image, display\n",
    "\n",
    "# Display the image\n",
    "display(Image(filename='thats a wrap.jpeg'))"
   ]
  }
 ],
 "metadata": {
  "kernelspec": {
   "display_name": "Python 3 (ipykernel)",
   "language": "python",
   "name": "python3"
  },
  "language_info": {
   "codemirror_mode": {
    "name": "ipython",
    "version": 3
   },
   "file_extension": ".py",
   "mimetype": "text/x-python",
   "name": "python",
   "nbconvert_exporter": "python",
   "pygments_lexer": "ipython3",
   "version": "3.11.5"
  }
 },
 "nbformat": 4,
 "nbformat_minor": 5
}
